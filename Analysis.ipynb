{
 "cells": [
  {
   "cell_type": "code",
   "execution_count": 108,
   "id": "26a1bc59-0dc3-457f-aa41-ee8fa29353d4",
   "metadata": {},
   "outputs": [],
   "source": [
    "# Analyzing a strategy that gives a 40% win rate, where your RR is 1:2\n",
    "# comparing it to SPY's return\n",
    "# calculating the sharpe ratio for SPY & strategy\n",
    "# calculating drawdown of SPY & strategy \n",
    "# plotting the returns"
   ]
  },
  {
   "cell_type": "code",
   "execution_count": 109,
   "id": "7333bf09-6ac6-4e5d-b066-45f1693f99ad",
   "metadata": {},
   "outputs": [],
   "source": [
    "import numpy as np\n",
    "import pandas as pd\n",
    "import statsmodels.api as sm\n",
    "import yfinance as yf\n",
    "import matplotlib.pyplot as plt"
   ]
  },
  {
   "cell_type": "code",
   "execution_count": 110,
   "id": "183d2feb-a4f3-416a-b620-f78cecea7e74",
   "metadata": {},
   "outputs": [
    {
     "name": "stderr",
     "output_type": "stream",
     "text": [
      "[*********************100%%**********************]  1 of 1 completed\n"
     ]
    }
   ],
   "source": [
    "spy = yf.download(\"SPY\", start= \"2019-01-01\")[\"Adj Close\"]"
   ]
  },
  {
   "cell_type": "code",
   "execution_count": 111,
   "id": "19692811-67eb-4960-856d-be2d53ddd4c7",
   "metadata": {},
   "outputs": [
    {
     "data": {
      "text/plain": [
       "Date\n",
       "2019-01-03   -0.023863\n",
       "2019-01-04    0.033496\n",
       "2019-01-07    0.007885\n",
       "2019-01-08    0.009395\n",
       "2019-01-09    0.004673\n",
       "                ...   \n",
       "2024-06-11    0.002408\n",
       "2024-06-12    0.008213\n",
       "2024-06-13    0.002013\n",
       "2024-06-14    0.000608\n",
       "2024-06-17    0.007959\n",
       "Name: Adj Close, Length: 1373, dtype: float64"
      ]
     },
     "execution_count": 111,
     "metadata": {},
     "output_type": "execute_result"
    }
   ],
   "source": [
    "spy_ret = nifty/nifty.shift()-1\n",
    "spy_ret = nifty_ret.dropna()\n",
    "spy_ret"
   ]
  },
  {
   "cell_type": "code",
   "execution_count": 112,
   "id": "079a371f-10f8-4c90-baab-124c4d12264e",
   "metadata": {},
   "outputs": [
    {
     "data": {
      "text/plain": [
       "0.8849517076419768"
      ]
     },
     "execution_count": 112,
     "metadata": {},
     "output_type": "execute_result"
    }
   ],
   "source": [
    "sharpe = spy_ret.mean() / spy_ret.std()*np.sqrt(252)\n",
    "sharpe"
   ]
  },
  {
   "cell_type": "code",
   "execution_count": 113,
   "id": "274acd7e-1a35-49e7-8ae6-721c80030c3d",
   "metadata": {},
   "outputs": [],
   "source": [
    "pattern = [-0.01, -0.01, -0.01, 0.02, 0.02]\n"
   ]
  },
  {
   "cell_type": "code",
   "execution_count": 114,
   "id": "08b20a02-ba6e-4147-b144-b597c4b1adbe",
   "metadata": {},
   "outputs": [],
   "source": [
    "data = {}\n",
    "pattern_length = len(pattern)\n",
    "for i, days in enumerate(spy_ret.index):\n",
    "    data[days] = pattern[i % pattern_length]"
   ]
  },
  {
   "cell_type": "code",
   "execution_count": 115,
   "id": "0c34ad38-91a4-4665-b34c-a25c7d87a276",
   "metadata": {},
   "outputs": [
    {
     "data": {
      "text/plain": [
       "2019-01-03   -0.01\n",
       "2019-01-04   -0.01\n",
       "2019-01-07   -0.01\n",
       "2019-01-08    0.02\n",
       "2019-01-09    0.02\n",
       "              ... \n",
       "2024-06-11    0.02\n",
       "2024-06-12    0.02\n",
       "2024-06-13   -0.01\n",
       "2024-06-14   -0.01\n",
       "2024-06-17   -0.01\n",
       "Length: 1373, dtype: float64"
      ]
     },
     "execution_count": 115,
     "metadata": {},
     "output_type": "execute_result"
    }
   ],
   "source": [
    "strat = pd.Series(data)\n",
    "strat"
   ]
  },
  {
   "cell_type": "code",
   "execution_count": 116,
   "id": "69858c31-eb2c-47dd-89e3-1895569879ff",
   "metadata": {},
   "outputs": [
    {
     "data": {
      "text/html": [
       "<div>\n",
       "<style scoped>\n",
       "    .dataframe tbody tr th:only-of-type {\n",
       "        vertical-align: middle;\n",
       "    }\n",
       "\n",
       "    .dataframe tbody tr th {\n",
       "        vertical-align: top;\n",
       "    }\n",
       "\n",
       "    .dataframe thead th {\n",
       "        text-align: right;\n",
       "    }\n",
       "</style>\n",
       "<table border=\"1\" class=\"dataframe\">\n",
       "  <thead>\n",
       "    <tr style=\"text-align: right;\">\n",
       "      <th></th>\n",
       "      <th>SPY_Returns</th>\n",
       "      <th>Strategy</th>\n",
       "    </tr>\n",
       "  </thead>\n",
       "  <tbody>\n",
       "    <tr>\n",
       "      <th>2019-01-03</th>\n",
       "      <td>-0.023863</td>\n",
       "      <td>-0.01</td>\n",
       "    </tr>\n",
       "    <tr>\n",
       "      <th>2019-01-04</th>\n",
       "      <td>0.033496</td>\n",
       "      <td>-0.01</td>\n",
       "    </tr>\n",
       "    <tr>\n",
       "      <th>2019-01-07</th>\n",
       "      <td>0.007885</td>\n",
       "      <td>-0.01</td>\n",
       "    </tr>\n",
       "    <tr>\n",
       "      <th>2019-01-08</th>\n",
       "      <td>0.009395</td>\n",
       "      <td>0.02</td>\n",
       "    </tr>\n",
       "    <tr>\n",
       "      <th>2019-01-09</th>\n",
       "      <td>0.004673</td>\n",
       "      <td>0.02</td>\n",
       "    </tr>\n",
       "    <tr>\n",
       "      <th>...</th>\n",
       "      <td>...</td>\n",
       "      <td>...</td>\n",
       "    </tr>\n",
       "    <tr>\n",
       "      <th>2024-06-11</th>\n",
       "      <td>0.002408</td>\n",
       "      <td>0.02</td>\n",
       "    </tr>\n",
       "    <tr>\n",
       "      <th>2024-06-12</th>\n",
       "      <td>0.008213</td>\n",
       "      <td>0.02</td>\n",
       "    </tr>\n",
       "    <tr>\n",
       "      <th>2024-06-13</th>\n",
       "      <td>0.002013</td>\n",
       "      <td>-0.01</td>\n",
       "    </tr>\n",
       "    <tr>\n",
       "      <th>2024-06-14</th>\n",
       "      <td>0.000608</td>\n",
       "      <td>-0.01</td>\n",
       "    </tr>\n",
       "    <tr>\n",
       "      <th>2024-06-17</th>\n",
       "      <td>0.007959</td>\n",
       "      <td>-0.01</td>\n",
       "    </tr>\n",
       "  </tbody>\n",
       "</table>\n",
       "<p>1373 rows × 2 columns</p>\n",
       "</div>"
      ],
      "text/plain": [
       "            SPY_Returns  Strategy\n",
       "2019-01-03    -0.023863     -0.01\n",
       "2019-01-04     0.033496     -0.01\n",
       "2019-01-07     0.007885     -0.01\n",
       "2019-01-08     0.009395      0.02\n",
       "2019-01-09     0.004673      0.02\n",
       "...                 ...       ...\n",
       "2024-06-11     0.002408      0.02\n",
       "2024-06-12     0.008213      0.02\n",
       "2024-06-13     0.002013     -0.01\n",
       "2024-06-14     0.000608     -0.01\n",
       "2024-06-17     0.007959     -0.01\n",
       "\n",
       "[1373 rows x 2 columns]"
      ]
     },
     "execution_count": 116,
     "metadata": {},
     "output_type": "execute_result"
    }
   ],
   "source": [
    "# Convert the data dictionary to a Series\n",
    "strat = pd.Series(data, name=\"Strategy\")\n",
    "\n",
    "# Combine nifty_ret and strat into one DataFrame\n",
    "combined_df = pd.concat([nifty_ret, strat], axis=1)\n",
    "\n",
    "# Rename the columns for clarity\n",
    "combined_df.columns = [\"SPY_Returns\", \"Strategy\"]\n",
    "\n",
    "combined_df "
   ]
  },
  {
   "cell_type": "code",
   "execution_count": 117,
   "id": "2c95c03e-3dbc-49c4-81ed-b6b8d69db021",
   "metadata": {},
   "outputs": [
    {
     "data": {
      "text/plain": [
       "<Axes: >"
      ]
     },
     "execution_count": 117,
     "metadata": {},
     "output_type": "execute_result"
    },
    {
     "data": {
      "image/png": "[encoded data removed]",
      "text/plain": [
       "<Figure size 640x480 with 1 Axes>"
      ]
     },
     "metadata": {},
     "output_type": "display_data"
    }
   ],
   "source": [
    "combined_df.cumsum().plot()"
   ]
  },
  {
   "cell_type": "code",
   "execution_count": 118,
   "id": "3f8afc6a-de9b-430c-95ce-d0a3145f4a6f",
   "metadata": {},
   "outputs": [],
   "source": [
    "sharpe_strat = strat.mean()/strat.std()*np.sqrt(252)"
   ]
  },
  {
   "cell_type": "code",
   "execution_count": 119,
   "id": "cf328f1e-c098-464f-b7df-52564bcc07a7",
   "metadata": {},
   "outputs": [
    {
     "data": {
      "text/plain": [
       "2.1319295050531926"
      ]
     },
     "execution_count": 119,
     "metadata": {},
     "output_type": "execute_result"
    }
   ],
   "source": [
    "sharpe_strat"
   ]
  },
  {
   "cell_type": "code",
   "execution_count": 120,
   "id": "3ea206b9-28f1-46d7-b656-8dc7ad38680f",
   "metadata": {},
   "outputs": [],
   "source": [
    "def drawdown(x):\n",
    "    return x/x.expanding(min_periods = 1).max()-1"
   ]
  },
  {
   "cell_type": "code",
   "execution_count": 121,
   "id": "16934edb-a606-492e-9ce0-499a1f9f1409",
   "metadata": {},
   "outputs": [
    {
     "data": {
      "text/plain": [
       "-1.5"
      ]
     },
     "execution_count": 121,
     "metadata": {},
     "output_type": "execute_result"
    }
   ],
   "source": [
    "max_drawdown_Strat = drawdown(strat).min()\n",
    "max_drawdown_Strat"
   ]
  },
  {
   "cell_type": "code",
   "execution_count": 122,
   "id": "2874596d-469f-4dd9-9ccb-acc7ca85cc06",
   "metadata": {},
   "outputs": [
    {
     "data": {
      "text/plain": [
       "-2.8490178058265867"
      ]
     },
     "execution_count": 122,
     "metadata": {},
     "output_type": "execute_result"
    }
   ],
   "source": [
    "max_drawdown_SPY = drawdown(nifty_ret).min()\n",
    "max_drawdown_SPY"
   ]
  }
 ],
 "metadata": {
  "kernelspec": {
   "display_name": "Python 3 (ipykernel)",
   "language": "python",
   "name": "python3"
  },
  "language_info": {
   "codemirror_mode": {
    "name": "ipython",
    "version": 3
   },
   "file_extension": ".py",
   "mimetype": "text/x-python",
   "name": "python",
   "nbconvert_exporter": "python",
   "pygments_lexer": "ipython3",
   "version": "3.11.7"
  }
 },
 "nbformat": 4,
 "nbformat_minor": 5
}
